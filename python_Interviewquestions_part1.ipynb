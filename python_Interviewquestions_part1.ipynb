{
 "cells": [
  {
   "cell_type": "markdown",
   "id": "ec85b642",
   "metadata": {},
   "source": [
    "# 1.Find missing numbers "
   ]
  },
  {
   "cell_type": "code",
   "execution_count": 5,
   "id": "ba4ef641",
   "metadata": {},
   "outputs": [
    {
     "name": "stdout",
     "output_type": "stream",
     "text": [
      "[2, 4, 8]\n"
     ]
    }
   ],
   "source": [
    "a=[1,3,5,6,7,9,10]\n",
    "mina=min(a)\n",
    "maxa=max(a)\n",
    "minmax=range(mina,maxa)\n",
    "final=set(minmax)-set(a)\n",
    "print(sorted(final))"
   ]
  },
  {
   "cell_type": "markdown",
   "id": "3b59ca69",
   "metadata": {},
   "source": [
    "# 2.Calaculate sum of numbers from 1 to n "
   ]
  },
  {
   "cell_type": "code",
   "execution_count": 6,
   "id": "317e1e83",
   "metadata": {},
   "outputs": [
    {
     "name": "stdout",
     "output_type": "stream",
     "text": [
      "100\n",
      "5050\n"
     ]
    }
   ],
   "source": [
    "#method1\n",
    "n=int(input())\n",
    "s=0\n",
    "for i in range(1,n+1):\n",
    "    s=s+i\n",
    "print(s)"
   ]
  },
  {
   "cell_type": "code",
   "execution_count": 7,
   "id": "f8b366d0",
   "metadata": {},
   "outputs": [
    {
     "name": "stdout",
     "output_type": "stream",
     "text": [
      "100\n",
      "5050\n"
     ]
    }
   ],
   "source": [
    "#method2\n",
    "n=int(input())\n",
    "a=range(1,n+1)\n",
    "b=sum(a)\n",
    "print(b)"
   ]
  },
  {
   "cell_type": "markdown",
   "id": "49ee7fa4",
   "metadata": {},
   "source": [
    "# 3.Reverse of a string"
   ]
  },
  {
   "cell_type": "code",
   "execution_count": 8,
   "id": "83910278",
   "metadata": {},
   "outputs": [
    {
     "name": "stdout",
     "output_type": "stream",
     "text": [
      "jay\n",
      "yaj\n"
     ]
    }
   ],
   "source": [
    "a=input()\n",
    "print(a[::-1])"
   ]
  },
  {
   "cell_type": "markdown",
   "id": "928c7571",
   "metadata": {},
   "source": [
    "# 4.palindrome or not "
   ]
  },
  {
   "cell_type": "code",
   "execution_count": 9,
   "id": "422a5e9c",
   "metadata": {},
   "outputs": [
    {
     "name": "stdout",
     "output_type": "stream",
     "text": [
      "mam\n",
      "Palindrome\n"
     ]
    }
   ],
   "source": [
    "a=input()\n",
    "if a==a[::-1]:\n",
    "    print(\"Palindrome\")\n",
    "else:\n",
    "    print(\"Not Palindrome\")"
   ]
  },
  {
   "cell_type": "markdown",
   "id": "98cfd57e",
   "metadata": {},
   "source": [
    "# 5.Factorial of a number"
   ]
  },
  {
   "cell_type": "code",
   "execution_count": 10,
   "id": "331065b3",
   "metadata": {},
   "outputs": [
    {
     "name": "stdout",
     "output_type": "stream",
     "text": [
      "5\n",
      "120\n"
     ]
    }
   ],
   "source": [
    "n=int(input())\n",
    "f=1\n",
    "for i in range(1,n+1):\n",
    "    f=f*i\n",
    "print(f)"
   ]
  },
  {
   "cell_type": "markdown",
   "id": "49409a64",
   "metadata": {},
   "source": [
    "# 6.Amstrong number or not"
   ]
  },
  {
   "cell_type": "code",
   "execution_count": 11,
   "id": "15e37b84",
   "metadata": {},
   "outputs": [
    {
     "name": "stdout",
     "output_type": "stream",
     "text": [
      "153\n",
      "Amstrong number\n"
     ]
    }
   ],
   "source": [
    "n=int(input())\n",
    "l=len(str(n))\n",
    "temp=n\n",
    "s=0\n",
    "while temp>0:\n",
    "    num=temp%10\n",
    "    s=s+pow(num,l)\n",
    "    temp=temp//10\n",
    "if s==n:\n",
    "    print(\"Amstrong number\")\n",
    "else:\n",
    "    print(\"Not Amstrong number\")"
   ]
  },
  {
   "cell_type": "markdown",
   "id": "4f0c3fe8",
   "metadata": {},
   "source": [
    "# 7.prime number or not "
   ]
  },
  {
   "cell_type": "code",
   "execution_count": 25,
   "id": "e9e4f8b4",
   "metadata": {},
   "outputs": [
    {
     "name": "stdout",
     "output_type": "stream",
     "text": [
      "101\n",
      "prime\n"
     ]
    }
   ],
   "source": [
    "n=int(input())\n",
    "if n>1:\n",
    "    for i in range(2,n):\n",
    "        if n%i==0:\n",
    "            print(\"not prime\")\n",
    "            break\n",
    "    else:\n",
    "        print(\"prime\")\n",
    "else:\n",
    "    print(\"not prime\")"
   ]
  },
  {
   "cell_type": "markdown",
   "id": "7a27e372",
   "metadata": {},
   "source": [
    "# 8.Print prime numbers from 1 to 100"
   ]
  },
  {
   "cell_type": "code",
   "execution_count": 26,
   "id": "8834173f",
   "metadata": {},
   "outputs": [
    {
     "name": "stdout",
     "output_type": "stream",
     "text": [
      "2\n",
      "3\n",
      "5\n",
      "7\n",
      "11\n",
      "13\n",
      "17\n",
      "19\n",
      "23\n",
      "29\n",
      "31\n",
      "37\n",
      "41\n",
      "43\n",
      "47\n",
      "53\n",
      "59\n",
      "61\n",
      "67\n",
      "71\n",
      "73\n",
      "79\n",
      "83\n",
      "89\n",
      "97\n"
     ]
    }
   ],
   "source": [
    "n=100\n",
    "for i in range(2,n+1):\n",
    "    for j in range(2,i):\n",
    "        if i%j==0:\n",
    "            break\n",
    "    else:\n",
    "        print(i)"
   ]
  },
  {
   "cell_type": "markdown",
   "id": "35f657d3",
   "metadata": {},
   "source": [
    "# 9.swap two numbers"
   ]
  },
  {
   "cell_type": "code",
   "execution_count": 27,
   "id": "6a0ba1d9",
   "metadata": {},
   "outputs": [
    {
     "name": "stdout",
     "output_type": "stream",
     "text": [
      "3 5\n"
     ]
    }
   ],
   "source": [
    "#with temp variable\n",
    "a=5\n",
    "b=3\n",
    "temp=a\n",
    "a=b\n",
    "b=temp\n",
    "print(a,b)"
   ]
  },
  {
   "cell_type": "code",
   "execution_count": 29,
   "id": "7166c585",
   "metadata": {},
   "outputs": [
    {
     "name": "stdout",
     "output_type": "stream",
     "text": [
      "2 3\n"
     ]
    }
   ],
   "source": [
    "#without temp variable\n",
    "a=3\n",
    "b=2\n",
    "a=a+b\n",
    "b=a-b\n",
    "a=a-b\n",
    "print(a,b)"
   ]
  },
  {
   "cell_type": "markdown",
   "id": "2c4ec0bf",
   "metadata": {},
   "source": [
    "# 10.Reverse of a number"
   ]
  },
  {
   "cell_type": "code",
   "execution_count": 31,
   "id": "25c3e82f",
   "metadata": {},
   "outputs": [
    {
     "name": "stdout",
     "output_type": "stream",
     "text": [
      "12\n",
      "21\n"
     ]
    }
   ],
   "source": [
    "n=int(input())\n",
    "a=str(n)\n",
    "b=a[::-1]\n",
    "print(b)\n",
    "\n",
    "\n"
   ]
  },
  {
   "cell_type": "markdown",
   "id": "2566b905",
   "metadata": {},
   "source": [
    "# 11.Factors of a number"
   ]
  },
  {
   "cell_type": "code",
   "execution_count": 36,
   "id": "1bd903b9",
   "metadata": {},
   "outputs": [
    {
     "name": "stdout",
     "output_type": "stream",
     "text": [
      "100\n",
      "1\n",
      "2\n",
      "4\n",
      "5\n",
      "10\n",
      "20\n",
      "25\n",
      "50\n",
      "100\n"
     ]
    }
   ],
   "source": [
    "n=int(input())\n",
    "for i in range(1,n+1):\n",
    "    if n%i==0:\n",
    "        print(i)\n",
    "    "
   ]
  },
  {
   "cell_type": "markdown",
   "id": "f312b849",
   "metadata": {},
   "source": [
    "# 12.matching characters of a string\n"
   ]
  },
  {
   "cell_type": "code",
   "execution_count": 38,
   "id": "928f4e8b",
   "metadata": {},
   "outputs": [
    {
     "name": "stdout",
     "output_type": "stream",
     "text": [
      "{'a'}\n"
     ]
    }
   ],
   "source": [
    "a=\"jaya\"\n",
    "b=[]\n",
    "for i in a:\n",
    "    if a.count(i)>1:\n",
    "        b.append(i)\n",
    "print(set(b))\n",
    "        "
   ]
  },
  {
   "cell_type": "markdown",
   "id": "17219562",
   "metadata": {},
   "source": [
    "# 13.find count of repeated characters in a string"
   ]
  },
  {
   "cell_type": "code",
   "execution_count": 43,
   "id": "29071362",
   "metadata": {},
   "outputs": [
    {
     "name": "stdout",
     "output_type": "stream",
     "text": [
      "k 2\n",
      "a 2\n",
      "r 1\n",
      "t 1\n",
      "h 1\n",
      "i 1\n",
      "k 2\n",
      "a 2\n"
     ]
    }
   ],
   "source": [
    "a='karthika'\n",
    "for i in a:\n",
    "    print(i,a.count(i))"
   ]
  },
  {
   "cell_type": "markdown",
   "id": "d81d597d",
   "metadata": {},
   "source": [
    "# 13.replace character with other character in a string "
   ]
  },
  {
   "cell_type": "code",
   "execution_count": 44,
   "id": "54feba37",
   "metadata": {},
   "outputs": [
    {
     "name": "stdout",
     "output_type": "stream",
     "text": [
      "jzyz\n"
     ]
    }
   ],
   "source": [
    "a='jaya'\n",
    "b=a.replace('a','z')\n",
    "print(b)"
   ]
  },
  {
   "cell_type": "markdown",
   "id": "36f35f5a",
   "metadata": {},
   "source": [
    "# 14.fibonaacii sequence "
   ]
  },
  {
   "cell_type": "code",
   "execution_count": 47,
   "id": "b87a22bb",
   "metadata": {},
   "outputs": [
    {
     "name": "stdout",
     "output_type": "stream",
     "text": [
      "10\n",
      "0\n",
      "1\n",
      "1\n",
      "2\n",
      "3\n",
      "5\n",
      "8\n",
      "13\n",
      "21\n",
      "34\n"
     ]
    }
   ],
   "source": [
    "n=int(input())\n",
    "n1=0\n",
    "n2=1\n",
    "count=0\n",
    "while count<n:\n",
    "    print(n1)\n",
    "    next=n1+n2\n",
    "    n1=n2\n",
    "    n2=next\n",
    "    count=count+1\n",
    "    \n",
    "    "
   ]
  },
  {
   "cell_type": "markdown",
   "id": "7f0be940",
   "metadata": {},
   "source": [
    "# 15.print vowles and consonets of a string "
   ]
  },
  {
   "cell_type": "code",
   "execution_count": 58,
   "id": "37eab48b",
   "metadata": {},
   "outputs": [
    {
     "name": "stdout",
     "output_type": "stream",
     "text": [
      "vcount 2\n",
      "ccount 5\n"
     ]
    }
   ],
   "source": [
    "a='dhanush'\n",
    "l=['a','e','i','o','u']\n",
    "v=[]\n",
    "c=[]\n",
    "for i in a:\n",
    "    if i in l:\n",
    "        v.append(i)\n",
    "    else:\n",
    "        c.append(i)\n",
    "print('vcount',len(v))\n",
    "print('ccount',len(c))"
   ]
  },
  {
   "cell_type": "markdown",
   "id": "8bbe73ee",
   "metadata": {},
   "source": [
    "# 16.Anagrams or not "
   ]
  },
  {
   "cell_type": "code",
   "execution_count": 60,
   "id": "8aa107e3",
   "metadata": {},
   "outputs": [
    {
     "name": "stdout",
     "output_type": "stream",
     "text": [
      "silent\n",
      "listen\n",
      "anagrams\n"
     ]
    }
   ],
   "source": [
    "a=input()\n",
    "b=input()\n",
    "if sorted(a)==sorted(b):\n",
    "    print(\"anagrams\")\n",
    "else:\n",
    "    print(\"not anagrams\")"
   ]
  },
  {
   "cell_type": "markdown",
   "id": "7b7cb769",
   "metadata": {},
   "source": [
    "# 17.calaculate numerial digits in a string "
   ]
  },
  {
   "cell_type": "code",
   "execution_count": 65,
   "id": "509d135a",
   "metadata": {},
   "outputs": [
    {
     "name": "stdout",
     "output_type": "stream",
     "text": [
      "3\n"
     ]
    }
   ],
   "source": [
    "a='dhanush143'\n",
    "l=[]\n",
    "for i in a:\n",
    "    if i.isdigit()==True:\n",
    "        l.append(i)\n",
    "print(len(l))\n",
    "        \n",
    "\n"
   ]
  },
  {
   "cell_type": "markdown",
   "id": "3130df2b",
   "metadata": {},
   "source": [
    "# 18.determine smallest,largest and second largest elements of array which is not sorted"
   ]
  },
  {
   "cell_type": "code",
   "execution_count": 67,
   "id": "1f702f71",
   "metadata": {},
   "outputs": [
    {
     "name": "stdout",
     "output_type": "stream",
     "text": [
      "7 60 35\n"
     ]
    }
   ],
   "source": [
    "a=[12,22,11,35,15,7,60]\n",
    "b=sorted(a)\n",
    "print(b[0],b[-1],b[-2])"
   ]
  },
  {
   "cell_type": "markdown",
   "id": "8472da78",
   "metadata": {},
   "source": [
    "# 19.delete repeated elements in a array\n"
   ]
  },
  {
   "cell_type": "code",
   "execution_count": 69,
   "id": "18e37fc9",
   "metadata": {},
   "outputs": [
    {
     "name": "stdout",
     "output_type": "stream",
     "text": [
      "{1, 2, 3, 4}\n"
     ]
    }
   ],
   "source": [
    "#method1 \n",
    "a=[1,2,2,3,1,4]\n",
    "print(set(a))"
   ]
  },
  {
   "cell_type": "code",
   "execution_count": 70,
   "id": "4be6e0b5",
   "metadata": {},
   "outputs": [
    {
     "name": "stdout",
     "output_type": "stream",
     "text": [
      "['1', '2', '3', '4']\n"
     ]
    }
   ],
   "source": [
    "#method2\n",
    "a=['1','2','2','3','1','4']\n",
    "b=[]\n",
    "for i in a:\n",
    "    if i not in b:\n",
    "        b.append(i)\n",
    "print(b)"
   ]
  },
  {
   "cell_type": "markdown",
   "id": "1ca846e9",
   "metadata": {},
   "source": [
    "# 20.Print the first character of a string that is not repeated "
   ]
  },
  {
   "cell_type": "code",
   "execution_count": 75,
   "id": "b02c05dc",
   "metadata": {},
   "outputs": [
    {
     "name": "stdout",
     "output_type": "stream",
     "text": [
      "y\n"
     ]
    }
   ],
   "source": [
    "a='jajya'\n",
    "for i in a:\n",
    "    if a.count(i)==1:\n",
    "        print(i)\n",
    "        break"
   ]
  },
  {
   "cell_type": "code",
   "execution_count": null,
   "id": "543327b1",
   "metadata": {},
   "outputs": [],
   "source": []
  }
 ],
 "metadata": {
  "kernelspec": {
   "display_name": "Python 3 (ipykernel)",
   "language": "python",
   "name": "python3"
  },
  "language_info": {
   "codemirror_mode": {
    "name": "ipython",
    "version": 3
   },
   "file_extension": ".py",
   "mimetype": "text/x-python",
   "name": "python",
   "nbconvert_exporter": "python",
   "pygments_lexer": "ipython3",
   "version": "3.9.12"
  }
 },
 "nbformat": 4,
 "nbformat_minor": 5
}
