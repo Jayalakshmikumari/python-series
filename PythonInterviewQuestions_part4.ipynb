{
 "cells": [
  {
   "cell_type": "code",
   "execution_count": 48,
   "id": "7b7618e3",
   "metadata": {},
   "outputs": [
    {
     "name": "stdout",
     "output_type": "stream",
     "text": [
      "4\n"
     ]
    }
   ],
   "source": [
    "#1.Count the number of words from the give string\n",
    "a='jaya lakshmi kumari nalluri'\n",
    "b=a.split()\n",
    "print(len(b))"
   ]
  },
  {
   "cell_type": "code",
   "execution_count": 45,
   "id": "38f01afe",
   "metadata": {},
   "outputs": [
    {
     "name": "stdout",
     "output_type": "stream",
     "text": [
      "4\n"
     ]
    }
   ],
   "source": [
    "#2.count all the positive numbers from the string\n",
    "list=[23,-34,-56,76,-26,87,50,-5]\n",
    "p=0\n",
    "for i in list:\n",
    "    if i>0:\n",
    "        p=p+1\n",
    "print(p)\n",
    "        "
   ]
  },
  {
   "cell_type": "code",
   "execution_count": 6,
   "id": "8a4f7ab8",
   "metadata": {},
   "outputs": [
    {
     "name": "stdout",
     "output_type": "stream",
     "text": [
      "45\n"
     ]
    }
   ],
   "source": [
    "#3.count the total sum of elements from the string\n",
    "list=[1,2,3,4,5,6,7,8,9]\n",
    "s=0\n",
    "for i in list:\n",
    "    s=s+i\n",
    "print(s)\n",
    "    "
   ]
  },
  {
   "cell_type": "code",
   "execution_count": 15,
   "id": "1fbb205d",
   "metadata": {},
   "outputs": [
    {
     "name": "stdout",
     "output_type": "stream",
     "text": [
      "['a', 'e']\n"
     ]
    }
   ],
   "source": [
    "#4.Removing vowels from given string:\n",
    "a='apple'\n",
    "v=['a','e','i','o','u']\n",
    "b=[]\n",
    "for i in a:\n",
    "    if i in v:\n",
    "        b.append(i)\n",
    "print(b)\n",
    "        "
   ]
  },
  {
   "cell_type": "code",
   "execution_count": 14,
   "id": "a1819254",
   "metadata": {},
   "outputs": [
    {
     "name": "stdout",
     "output_type": "stream",
     "text": [
      "h m s j l k n "
     ]
    }
   ],
   "source": [
    "#5.Create a list of all the first letters of words in a given sentence\n",
    "st=\" hello my self jaya lakshmi kumari nalluri\"\n",
    "b=st.split()\n",
    "for i in b:\n",
    "    print(i[0],end=' ')"
   ]
  },
  {
   "cell_type": "code",
   "execution_count": 17,
   "id": "cefa4c11",
   "metadata": {},
   "outputs": [
    {
     "name": "stdout",
     "output_type": "stream",
     "text": [
      "ayaj\n"
     ]
    }
   ],
   "source": [
    "#6.reverse of a string\n",
    "a='jaya'\n",
    "print(a[::-1])\n"
   ]
  },
  {
   "cell_type": "code",
   "execution_count": 29,
   "id": "46f537fb",
   "metadata": {},
   "outputs": [
    {
     "name": "stdout",
     "output_type": "stream",
     "text": [
      "nalluri kumari lakshmi jaya\n"
     ]
    }
   ],
   "source": [
    "#7.reverse of words\n",
    "a='jaya lakshmi kumari nalluri'\n",
    "b=a.split()\n",
    "c=b[::-1]\n",
    "print(' '.join(c))"
   ]
  },
  {
   "cell_type": "code",
   "execution_count": 36,
   "id": "648f1ed2",
   "metadata": {},
   "outputs": [
    {
     "name": "stdout",
     "output_type": "stream",
     "text": [
      "['h', 'm', 's', 'J', 'n']\n"
     ]
    }
   ],
   "source": [
    "#8.Create a list of all the first letters of words in a given sentence\n",
    "st=\" hello my self Jaya nalluri\"\n",
    "b=st.split()\n",
    "c=[]\n",
    "for i in b:\n",
    "    c.append(i[0])\n",
    "print(c)\n",
    "    "
   ]
  },
  {
   "cell_type": "code",
   "execution_count": 52,
   "id": "a88f1535",
   "metadata": {},
   "outputs": [
    {
     "name": "stdout",
     "output_type": "stream",
     "text": [
      "4\n"
     ]
    }
   ],
   "source": [
    "#9.count the upper case letter in the string\n",
    "a='Jaya Lakshmi Kumari Nalluri'\n",
    "upper=['A','B','C','D','E','F','G','H','I','J','K','L','M','N','O','P','Q','R','S','T','U','V','W','X','Y','Z']\n",
    "c=0\n",
    "for i in a:\n",
    "    if i in upper:\n",
    "        c=c+1\n",
    "print(c)\n",
    "        \n"
   ]
  },
  {
   "cell_type": "code",
   "execution_count": 53,
   "id": "b0da0ec9",
   "metadata": {},
   "outputs": [
    {
     "name": "stdout",
     "output_type": "stream",
     "text": [
      "['j', 'a', 'y']\n"
     ]
    }
   ],
   "source": [
    "#10.Find the unique words from the give input string\n",
    "a='jaya'\n",
    "b=[]\n",
    "for i in a:\n",
    "    if i not in b:\n",
    "        b.append(i)\n",
    "print(b)\n",
    "    \n"
   ]
  },
  {
   "cell_type": "code",
   "execution_count": null,
   "id": "0819c1bd",
   "metadata": {},
   "outputs": [],
   "source": []
  }
 ],
 "metadata": {
  "kernelspec": {
   "display_name": "Python 3 (ipykernel)",
   "language": "python",
   "name": "python3"
  },
  "language_info": {
   "codemirror_mode": {
    "name": "ipython",
    "version": 3
   },
   "file_extension": ".py",
   "mimetype": "text/x-python",
   "name": "python",
   "nbconvert_exporter": "python",
   "pygments_lexer": "ipython3",
   "version": "3.9.12"
  }
 },
 "nbformat": 4,
 "nbformat_minor": 5
}
