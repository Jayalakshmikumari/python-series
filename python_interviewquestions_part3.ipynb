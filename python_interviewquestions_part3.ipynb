{
 "cells": [
  {
   "cell_type": "code",
   "execution_count": 4,
   "id": "fc94effa",
   "metadata": {},
   "outputs": [
    {
     "name": "stdout",
     "output_type": "stream",
     "text": [
      "5\n",
      "<class 'decimal.Decimal'>\n"
     ]
    }
   ],
   "source": [
    "#1. Converting an Integer into Decimals\n",
    "import decimal \n",
    "a=5\n",
    "b=decimal.Decimal(a)\n",
    "print(b)\n",
    "print(type(b))"
   ]
  },
  {
   "cell_type": "code",
   "execution_count": 3,
   "id": "6abd8891",
   "metadata": {},
   "outputs": [
    {
     "name": "stdout",
     "output_type": "stream",
     "text": [
      "3\n",
      "<class 'decimal.Decimal'>\n"
     ]
    }
   ],
   "source": [
    "#2. Converting an String of Integers into Decimals\n",
    "import decimal\n",
    "a='3'\n",
    "b=decimal.Decimal(a)\n",
    "print(b)\n",
    "print(type(b))\n"
   ]
  },
  {
   "cell_type": "code",
   "execution_count": 5,
   "id": "adef2929",
   "metadata": {},
   "outputs": [
    {
     "name": "stdout",
     "output_type": "stream",
     "text": [
      "yaj\n"
     ]
    }
   ],
   "source": [
    "#3. Reversing a String using an Extended Slicing Technique\n",
    "a='jay'\n",
    "print(a[::-1])"
   ]
  },
  {
   "cell_type": "code",
   "execution_count": 6,
   "id": "bcb320bb",
   "metadata": {},
   "outputs": [
    {
     "name": "stdout",
     "output_type": "stream",
     "text": [
      "vowelscount 2\n",
      "consonenetscount 5\n"
     ]
    }
   ],
   "source": [
    "#4.count vowels and consonants in a string \n",
    "a='dhanush'\n",
    "v=['a','e','i','o','u']\n",
    "vc=0\n",
    "cc=0\n",
    "for i in a:\n",
    "    if i in v:\n",
    "        vc=vc+1\n",
    "    else:\n",
    "        cc=cc+1\n",
    "print('vowelscount',vc)\n",
    "print('consonenetscount',cc)"
   ]
  },
  {
   "cell_type": "code",
   "execution_count": 7,
   "id": "83b3af0c",
   "metadata": {},
   "outputs": [
    {
     "name": "stdout",
     "output_type": "stream",
     "text": [
      "2\n"
     ]
    }
   ],
   "source": [
    "#5.Counting the Number of Occurances of a Character in a String\n",
    "a='jaya'\n",
    "print(a.count('a'))"
   ]
  },
  {
   "cell_type": "code",
   "execution_count": 8,
   "id": "8288b52b",
   "metadata": {},
   "outputs": [
    {
     "name": "stdout",
     "output_type": "stream",
     "text": [
      "0\n",
      "1\n",
      "1\n",
      "2\n",
      "3\n"
     ]
    }
   ],
   "source": [
    "#6.Writing Fibonacci Series\n",
    "n=5\n",
    "n1=0\n",
    "n2=1\n",
    "c=0\n",
    "while c<n:\n",
    "    print(n1)\n",
    "    next=n1+n2\n",
    "    n1=n2\n",
    "    n2=next\n",
    "    c=c+1\n"
   ]
  },
  {
   "cell_type": "code",
   "execution_count": 9,
   "id": "99dc8564",
   "metadata": {},
   "outputs": [
    {
     "name": "stdout",
     "output_type": "stream",
     "text": [
      "6\n",
      "2\n"
     ]
    }
   ],
   "source": [
    "#7.find max and min element in a list \n",
    "a=[2,5,4,6]\n",
    "print(max(a))\n",
    "print(min(a))"
   ]
  },
  {
   "cell_type": "code",
   "execution_count": 11,
   "id": "3c3060d1",
   "metadata": {},
   "outputs": [
    {
     "name": "stdout",
     "output_type": "stream",
     "text": [
      "3\n"
     ]
    }
   ],
   "source": [
    "#8.find middle element in a list\n",
    "a=[1,2,3,4,5]\n",
    "b=int(len(a)/2)\n",
    "print(a[b])"
   ]
  },
  {
   "cell_type": "code",
   "execution_count": 12,
   "id": "d528dcae",
   "metadata": {},
   "outputs": [
    {
     "name": "stdout",
     "output_type": "stream",
     "text": [
      "jaya\n"
     ]
    }
   ],
   "source": [
    "#9.Converting a List into a String\n",
    "l=['j','a','y','a']\n",
    "print(''.join(l))"
   ]
  },
  {
   "cell_type": "code",
   "execution_count": 24,
   "id": "3bfcd9a1",
   "metadata": {},
   "outputs": [
    {
     "name": "stdout",
     "output_type": "stream",
     "text": [
      "[4, 6]\n"
     ]
    }
   ],
   "source": [
    "#10.Adding Two List Elements Together\n",
    "a=[1,2]\n",
    "b=[3,4]\n",
    "c=[]\n",
    "for i in range(0,len(a)):\n",
    "    c.append(a[i]+b[i])\n",
    "print(c)"
   ]
  },
  {
   "cell_type": "code",
   "execution_count": 25,
   "id": "b58bf3e3",
   "metadata": {},
   "outputs": [
    {
     "name": "stdout",
     "output_type": "stream",
     "text": [
      "anagrams\n"
     ]
    }
   ],
   "source": [
    "#11.Comparing Two Strings for Anagrams\n",
    "a='silent'\n",
    "b='listen'\n",
    "if sorted(a)==sorted(b):\n",
    "    print('anagrams')\n",
    "else:\n",
    "    print('not anagrams')"
   ]
  },
  {
   "cell_type": "code",
   "execution_count": 26,
   "id": "ca5d7f0f",
   "metadata": {},
   "outputs": [
    {
     "name": "stdout",
     "output_type": "stream",
     "text": [
      "palindrome\n"
     ]
    }
   ],
   "source": [
    "#12.palindrome \n",
    "a='121'\n",
    "if a==a[::-1]:\n",
    "    print('palindrome')\n",
    "else:\n",
    "    print('notpalindrome')"
   ]
  },
  {
   "cell_type": "code",
   "execution_count": 28,
   "id": "df507a7d",
   "metadata": {},
   "outputs": [
    {
     "name": "stdout",
     "output_type": "stream",
     "text": [
      "3\n"
     ]
    }
   ],
   "source": [
    "#13.Counting the White Spaces in a String\n",
    "a='jaya lakshmi kumari nalluri'\n",
    "c=0\n",
    "for i in a:\n",
    "    if i==' ':\n",
    "        c=c+1\n",
    "print(c)\n",
    "        "
   ]
  },
  {
   "cell_type": "code",
   "execution_count": 44,
   "id": "cca55ce9",
   "metadata": {},
   "outputs": [
    {
     "name": "stdout",
     "output_type": "stream",
     "text": [
      "digitcount 1\n",
      "whitespacecount 2\n",
      "letterscount 8\n",
      "specialcount 1\n"
     ]
    }
   ],
   "source": [
    "#14.Counting Digits, Letters,specialcharacters  and Spaces in a String\n",
    "name = 'Python is 1@'\n",
    "d=['0','1','2','3','4','5','6','7','8','9']\n",
    "s=['!','@','#','$','%','^','&','*','()']\n",
    "dc=[]\n",
    "wc=[]\n",
    "lc=[]\n",
    "sc=[]\n",
    "for i in name:\n",
    "    if i in d:\n",
    "        dc.append(i)\n",
    "    elif i==' ':\n",
    "        wc.append(i)\n",
    "    elif i in s:\n",
    "        sc.append(i)\n",
    "    else:\n",
    "        lc.append(i)\n",
    "print('digitcount',len(dc))\n",
    "print('whitespacecount',len(wc))\n",
    "print('letterscount',len(lc))\n",
    "print('specialcount',len(sc))\n",
    "    \n",
    "        "
   ]
  },
  {
   "cell_type": "code",
   "execution_count": 55,
   "id": "ba41f5a1",
   "metadata": {},
   "outputs": [
    {
     "name": "stdout",
     "output_type": "stream",
     "text": [
      "jayadhanush\n"
     ]
    }
   ],
   "source": [
    "#15.Removing All Whitespace in a String\n",
    "a='   ja  ya dhanush '\n",
    "b=''.join(a.split())\n",
    "print(b)"
   ]
  },
  {
   "cell_type": "code",
   "execution_count": 61,
   "id": "25c5c06e",
   "metadata": {},
   "outputs": [
    {
     "name": "stdout",
     "output_type": "stream",
     "text": [
      "karuna loves jaya\n"
     ]
    }
   ],
   "source": [
    "a='jaya loves karuna'\n",
    "b=a.split()\n",
    "print(' '.join(b[::-1]))"
   ]
  },
  {
   "cell_type": "code",
   "execution_count": null,
   "id": "f8a8bea2",
   "metadata": {},
   "outputs": [],
   "source": []
  }
 ],
 "metadata": {
  "kernelspec": {
   "display_name": "Python 3 (ipykernel)",
   "language": "python",
   "name": "python3"
  },
  "language_info": {
   "codemirror_mode": {
    "name": "ipython",
    "version": 3
   },
   "file_extension": ".py",
   "mimetype": "text/x-python",
   "name": "python",
   "nbconvert_exporter": "python",
   "pygments_lexer": "ipython3",
   "version": "3.9.12"
  }
 },
 "nbformat": 4,
 "nbformat_minor": 5
}
