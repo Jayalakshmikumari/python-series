{
 "cells": [
  {
   "cell_type": "markdown",
   "id": "bcee1968",
   "metadata": {},
   "source": [
    "### 1.print the second element of each nested array inside the above list.\n"
   ]
  },
  {
   "cell_type": "code",
   "execution_count": 4,
   "id": "90b89f66",
   "metadata": {},
   "outputs": [
    {
     "name": "stdout",
     "output_type": "stream",
     "text": [
      "a\n",
      "b\n",
      "c\n"
     ]
    }
   ],
   "source": [
    "List=[(1,'a'),(2,'b'),(3,'c')]\n",
    "for i in List:\n",
    "    print(i[1])\n",
    "\n"
   ]
  },
  {
   "cell_type": "markdown",
   "id": "d2ce3345",
   "metadata": {},
   "source": [
    "### 2.Create a dataframe using name,age and city as columns using a dictionary and then insert 'Zabda' in name.make the first letter of each word inside name to upper case.\n"
   ]
  },
  {
   "cell_type": "code",
   "execution_count": 23,
   "id": "8d5aa99c",
   "metadata": {},
   "outputs": [
    {
     "name": "stdout",
     "output_type": "stream",
     "text": [
      "      name   age       city\n",
      "0     Jaya    24  hyderabad\n",
      "1   Karuna    23  Bangolore\n",
      "2  Dhanush    24     Mumbai\n",
      "3    Zabda  None       None\n"
     ]
    },
    {
     "name": "stderr",
     "output_type": "stream",
     "text": [
      "C:\\Users\\Zabda\\AppData\\Local\\Temp\\ipykernel_16428\\128877841.py:7: FutureWarning: The frame.append method is deprecated and will be removed from pandas in a future version. Use pandas.concat instead.\n",
      "  df=df.append({'name':'Zabda','age':'None','city':'None'},ignore_index=True)\n"
     ]
    }
   ],
   "source": [
    "import pandas as pd\n",
    "#creating data frame\n",
    "data={'name':['jaya','karuna','dhanush'],'age':[24,23,24],'city':['hyderabad','Bangolore','Mumbai']}\n",
    "df=pd.DataFrame(data)\n",
    "#print(df)\n",
    "#insert zabda in name \n",
    "df=df.append({'name':'Zabda','age':'None','city':'None'},ignore_index=True)\n",
    "#print(df)\n",
    "#making first letter as uppercase\n",
    "df['name']=(df['name'].str.capitalize())\n",
    "print(df)\n"
   ]
  },
  {
   "cell_type": "code",
   "execution_count": 24,
   "id": "a5bf013b",
   "metadata": {},
   "outputs": [],
   "source": [
    "#3.Is it possible to insert value into tuple.? If yes,how?\n",
    "#no because tuples are immutable and can't change . if we want to change then change data type of tuple to list . \n"
   ]
  },
  {
   "cell_type": "markdown",
   "id": "49ca87a7",
   "metadata": {},
   "source": [
    "## 4.Create a new list with swapped items inside the tuples\n"
   ]
  },
  {
   "cell_type": "code",
   "execution_count": 34,
   "id": "d26d52bb",
   "metadata": {},
   "outputs": [
    {
     "name": "stdout",
     "output_type": "stream",
     "text": [
      "[[2, 1], ['b', 'a'], [20, 10]]\n"
     ]
    }
   ],
   "source": [
    "List=[(1,2),('a','b'),(10,20)]\n",
    "newlist=[[i[1],i[0]] for i in List]\n",
    "print(newlist)"
   ]
  },
  {
   "cell_type": "markdown",
   "id": "1df64c87",
   "metadata": {},
   "source": [
    "## 5.Write a python script to add all the prime numbers between 1 to 100.\n"
   ]
  },
  {
   "cell_type": "code",
   "execution_count": 37,
   "id": "d1d5f93f",
   "metadata": {},
   "outputs": [
    {
     "name": "stdout",
     "output_type": "stream",
     "text": [
      "1060\n"
     ]
    }
   ],
   "source": [
    "n=100\n",
    "s=0\n",
    "for i in range(2,n):\n",
    "    for j in range(2,i):\n",
    "        if i%j==0:\n",
    "            break\n",
    "    else:\n",
    "        s=s+i\n",
    "print(s)\n",
    "        "
   ]
  },
  {
   "cell_type": "markdown",
   "id": "733266ac",
   "metadata": {},
   "source": [
    "## 6.Remove trailing whitespaces in:"
   ]
  },
  {
   "cell_type": "code",
   "execution_count": 38,
   "id": "e75990eb",
   "metadata": {},
   "outputs": [
    {
     "name": "stdout",
     "output_type": "stream",
     "text": [
      "             Raj Kumar is a student\n"
     ]
    }
   ],
   "source": [
    "string = '             Raj Kumar is a student         '\n",
    "print(string.rstrip())\n"
   ]
  },
  {
   "cell_type": "markdown",
   "id": "b512af80",
   "metadata": {},
   "source": [
    "## 7.Write a code to check whether a numerical dataset in palindrome or not.\n"
   ]
  },
  {
   "cell_type": "code",
   "execution_count": 44,
   "id": "b19d9b6f",
   "metadata": {},
   "outputs": [
    {
     "name": "stdout",
     "output_type": "stream",
     "text": [
      "121\n",
      "Palindrome number\n"
     ]
    }
   ],
   "source": [
    "a=input()\n",
    "if a==a[::-1]:\n",
    "    print(\"Palindrome number\")\n",
    "else:\n",
    "    print(\"Not Palindrome number\")"
   ]
  },
  {
   "cell_type": "markdown",
   "id": "3f223d3d",
   "metadata": {},
   "source": [
    "## 8.Write a python script to count the number of capital letters in the below string:\n"
   ]
  },
  {
   "cell_type": "code",
   "execution_count": 46,
   "id": "30815f98",
   "metadata": {},
   "outputs": [
    {
     "name": "stdout",
     "output_type": "stream",
     "text": [
      "18\n"
     ]
    }
   ],
   "source": [
    "input_string = \"This is A BaSic PyThon TEST which will heLP yoU for COding RounDS.\"\n",
    "a=['A','B','C','D','E','F','G','H','I','J','K','L','M','N','O','P','Q','R','S','T','U','V','W','X','Y','Z']\n",
    "b=[]\n",
    "for i in input_string:\n",
    "    if i in a:\n",
    "        b.append(i)\n",
    "print(len(b))\n",
    "        \n"
   ]
  },
  {
   "cell_type": "markdown",
   "id": "5b03575e",
   "metadata": {},
   "source": [
    "## 9.Than swap the uppercase to lower and vice versa for the above input string.\n"
   ]
  },
  {
   "cell_type": "code",
   "execution_count": 47,
   "id": "08067010",
   "metadata": {},
   "outputs": [
    {
     "name": "stdout",
     "output_type": "stream",
     "text": [
      "tHIS IS a bAsIC pYtHON test WHICH WILL HElp YOu FOR coDING rOUNds.\n"
     ]
    }
   ],
   "source": [
    "input_string = \"This is A BaSic PyThon TEST which will heLP yoU for COding RounDS.\"\n",
    "print(input_string.swapcase())\n"
   ]
  },
  {
   "cell_type": "markdown",
   "id": "8b6fec27",
   "metadata": {},
   "source": [
    "## 10.Implement a function called frequency_counter that takes a string as input and returns a dictionary containing the frequency count of each unique character in the string.Ignore spaces and consider case sensitivity.\n",
    "\n"
   ]
  },
  {
   "cell_type": "code",
   "execution_count": 78,
   "id": "69ed5967",
   "metadata": {},
   "outputs": [
    {
     "name": "stdout",
     "output_type": "stream",
     "text": [
      "{'j': 1, 'a': 2, 'y': 1, 'i': 2, 's': 1, 'g': 2, 'o': 2, 'd': 1, 'r': 1, 'l': 1}\n"
     ]
    }
   ],
   "source": [
    "def frequency_counter(input_string):\n",
    "    b={}\n",
    "    for i in input_string:\n",
    "        if i!=' ':\n",
    "            if i in b:\n",
    "                b[i]=b[i]+1\n",
    "            else:\n",
    "                b[i]=1\n",
    "    print(b)\n",
    "input_string='jaya is good girl'\n",
    "result=frequency_counter(input_string)\n"
   ]
  },
  {
   "cell_type": "markdown",
   "id": "63bd8460",
   "metadata": {},
   "source": [
    "## 11.swap dictionary keys and values to values and keys"
   ]
  },
  {
   "cell_type": "code",
   "execution_count": 79,
   "id": "64a19ab4",
   "metadata": {},
   "outputs": [
    {
     "name": "stdout",
     "output_type": "stream",
     "text": [
      "{1: 'a', 2: 'b'}\n"
     ]
    }
   ],
   "source": [
    "d={'a':1,'b':2}\n",
    "b=dict([values,keys] for keys,values in d.items())\n",
    "print(b)"
   ]
  },
  {
   "cell_type": "markdown",
   "id": "8e7da06c",
   "metadata": {},
   "source": [
    "## 12.select items in list and remove items from list"
   ]
  },
  {
   "cell_type": "code",
   "execution_count": 84,
   "id": "045e6a33",
   "metadata": {},
   "outputs": [
    {
     "name": "stdout",
     "output_type": "stream",
     "text": [
      "apple\n",
      "apple\n"
     ]
    }
   ],
   "source": [
    "a=[1,2,'apple']\n",
    "print(a[-1])\n",
    "print(a.pop(-1))"
   ]
  },
  {
   "cell_type": "code",
   "execution_count": null,
   "id": "246ab5d1",
   "metadata": {},
   "outputs": [],
   "source": []
  }
 ],
 "metadata": {
  "kernelspec": {
   "display_name": "Python 3 (ipykernel)",
   "language": "python",
   "name": "python3"
  },
  "language_info": {
   "codemirror_mode": {
    "name": "ipython",
    "version": 3
   },
   "file_extension": ".py",
   "mimetype": "text/x-python",
   "name": "python",
   "nbconvert_exporter": "python",
   "pygments_lexer": "ipython3",
   "version": "3.9.12"
  }
 },
 "nbformat": 4,
 "nbformat_minor": 5
}
